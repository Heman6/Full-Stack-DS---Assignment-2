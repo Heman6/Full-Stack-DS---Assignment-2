{
 "cells": [
  {
   "cell_type": "code",
   "execution_count": 1,
   "id": "40576c79",
   "metadata": {},
   "outputs": [],
   "source": [
    "#Question 1) What are the two values of the Boolean data type? How do you write them?\n",
    "\n",
    "#Answer: There are two values of the Boolean data type - True and False"
   ]
  },
  {
   "cell_type": "code",
   "execution_count": 2,
   "id": "778dff0d",
   "metadata": {},
   "outputs": [],
   "source": [
    "#Question 2) What are the three different types of Boolean operators?\n",
    "\n",
    "#Answer: AND, OR & NOT"
   ]
  },
  {
   "cell_type": "code",
   "execution_count": 3,
   "id": "9d9e1058",
   "metadata": {},
   "outputs": [],
   "source": [
    "#Question 3) Make a list of each Boolean operator's truth tables (i.e. every possible combination of Boolean values for the operator and what it evaluate).\n",
    "\n",
    "#Answer: \n",
    "\n",
    "#AND operator:\n",
    "#False + False = False\n",
    "#False + True = False\n",
    "#True + False = False\n",
    "#True + True = True\n",
    "\n",
    "#OR operator:\n",
    "#False + False = False\n",
    "#False + True = True\n",
    "#True + False = True\n",
    "#True + True = True\n"
   ]
  },
  {
   "cell_type": "markdown",
   "id": "face9167",
   "metadata": {},
   "source": [
    "#Question 4) \n",
    "\n",
    "What are the values of the following expressions?\n",
    "(5 > 4) and (3 == 5)\n",
    "not (5 > 4)\n",
    "(5 > 4) or (3 == 5)\n",
    "not ((5 > 4) or (3 == 5))\n",
    "(True and True) and (True == False)\n",
    "(not False) or (not True)\n"
   ]
  },
  {
   "cell_type": "code",
   "execution_count": 4,
   "id": "355183e0",
   "metadata": {},
   "outputs": [
    {
     "data": {
      "text/plain": [
       "False"
      ]
     },
     "execution_count": 4,
     "metadata": {},
     "output_type": "execute_result"
    }
   ],
   "source": [
    "(5>4) and (3 == 5)"
   ]
  },
  {
   "cell_type": "code",
   "execution_count": 5,
   "id": "850d92f6",
   "metadata": {},
   "outputs": [
    {
     "data": {
      "text/plain": [
       "False"
      ]
     },
     "execution_count": 5,
     "metadata": {},
     "output_type": "execute_result"
    }
   ],
   "source": [
    "not (5>4)"
   ]
  },
  {
   "cell_type": "code",
   "execution_count": 6,
   "id": "6886c5b4",
   "metadata": {},
   "outputs": [
    {
     "data": {
      "text/plain": [
       "True"
      ]
     },
     "execution_count": 6,
     "metadata": {},
     "output_type": "execute_result"
    }
   ],
   "source": [
    "(5>4) or (3 ==5)"
   ]
  },
  {
   "cell_type": "code",
   "execution_count": 7,
   "id": "06c1c760",
   "metadata": {},
   "outputs": [
    {
     "data": {
      "text/plain": [
       "False"
      ]
     },
     "execution_count": 7,
     "metadata": {},
     "output_type": "execute_result"
    }
   ],
   "source": [
    "not ((5>4) or (3==5))"
   ]
  },
  {
   "cell_type": "code",
   "execution_count": 8,
   "id": "ae3fa0ca",
   "metadata": {},
   "outputs": [
    {
     "data": {
      "text/plain": [
       "False"
      ]
     },
     "execution_count": 8,
     "metadata": {},
     "output_type": "execute_result"
    }
   ],
   "source": [
    "(True and True) and (True == False)"
   ]
  },
  {
   "cell_type": "code",
   "execution_count": 9,
   "id": "bc03bf43",
   "metadata": {},
   "outputs": [
    {
     "data": {
      "text/plain": [
       "True"
      ]
     },
     "execution_count": 9,
     "metadata": {},
     "output_type": "execute_result"
    }
   ],
   "source": [
    "(not False) or (not True)"
   ]
  },
  {
   "cell_type": "markdown",
   "id": "d10fedc3",
   "metadata": {},
   "source": [
    "#Question 5)\n",
    "\n",
    "What are the six comparison operators?"
   ]
  },
  {
   "cell_type": "markdown",
   "id": "d4244392",
   "metadata": {},
   "source": [
    "A) Equal to (\"==\"): The operator  checks if two values are equal and returns \"True\" if they are, or \"False\" otherwise\n",
    "B) Not equal to (\"!=\"): The operator checks if two values are  not equal and returns \"True\" if they are not, or \"False\" otherwise\n",
    "C) Greater than (\">\"): This operator checks if the left value is greater than the right value and return \"True\" if it is, or \"False\" otherwise\n",
    "D) Less than (\"<\"): This operator checks if the left value is less than the right value and return \"True\" if it is, or \"False\" otherwise\n",
    "E) Greater than or equal to (>=): This operator checks if the left value is greater than or equal to the right and returns \"true\", or \"False\" otherwise\n",
    "F) Less than or equal to (<=): his operator checks if the right value is greater than or equal to the left and returns \"true\", or \"False\" otherwise"
   ]
  },
  {
   "cell_type": "markdown",
   "id": "b1a3b6d4",
   "metadata": {},
   "source": [
    "#Question 5)\n",
    "\n",
    "How do you tell the difference between the equal to and assignment operators?Describe a condition and when you would use one."
   ]
  },
  {
   "cell_type": "markdown",
   "id": "38bd48fc",
   "metadata": {},
   "source": [
    "The equal (\"==\") operator is used for comparison, while the assigment operator (\"=\") is used for variable assignment.\n",
    "\n",
    "For Example:\n"
   ]
  },
  {
   "cell_type": "code",
   "execution_count": 10,
   "id": "3bf80008",
   "metadata": {},
   "outputs": [
    {
     "name": "stdout",
     "output_type": "stream",
     "text": [
      "x is not equal to y\n"
     ]
    }
   ],
   "source": [
    "x = 5\n",
    "y = 10\n",
    "\n",
    "if x==y:\n",
    "    print(\"x is equal to y\")\n",
    "    \n",
    "else:\n",
    "    print(\"x is not equal to y\")\n",
    "    \n",
    "#This an example of equal(\"==\") opeartor"
   ]
  },
  {
   "cell_type": "code",
   "execution_count": 11,
   "id": "a280a494",
   "metadata": {},
   "outputs": [
    {
     "name": "stdout",
     "output_type": "stream",
     "text": [
      "The value of y is: 7\n"
     ]
    }
   ],
   "source": [
    "x = 5\n",
    "y = x + 2\n",
    "\n",
    "print(\"The value of y is:\", y)\n",
    "\n",
    "#This an example of assigmnet(\"=\") opeartor"
   ]
  },
  {
   "cell_type": "code",
   "execution_count": 12,
   "id": "a3f5e12d",
   "metadata": {},
   "outputs": [
    {
     "ename": "SyntaxError",
     "evalue": "invalid syntax (<ipython-input-12-978b1be3a493>, line 2)",
     "output_type": "error",
     "traceback": [
      "\u001b[1;36m  File \u001b[1;32m\"<ipython-input-12-978b1be3a493>\"\u001b[1;36m, line \u001b[1;32m2\u001b[0m\n\u001b[1;33m    Identify the three blocks in this code:\u001b[0m\n\u001b[1;37m             ^\u001b[0m\n\u001b[1;31mSyntaxError\u001b[0m\u001b[1;31m:\u001b[0m invalid syntax\n"
     ]
    }
   ],
   "source": [
    "#Question 7:\n",
    "Identify the three blocks in this code:"
   ]
  },
  {
   "cell_type": "code",
   "execution_count": null,
   "id": "b494149f",
   "metadata": {},
   "outputs": [],
   "source": [
    "\n",
    "spam = 0\n",
    "if spam == 10:\n",
    "    print('eggs')\n",
    "    if spam > 5:\n",
    "        print('bacon')\n",
    "    else:\n",
    "        print('ham')\n",
    "        print('spam')\n",
    "        print('spam')\n",
    "\n",
    "\n",
    "#All where indentation issue - print (\"eggs\"), print(\"bacon\"), and the one beloww else statement"
   ]
  },
  {
   "cell_type": "code",
   "execution_count": null,
   "id": "83a8c454",
   "metadata": {},
   "outputs": [],
   "source": [
    "#Question 8:\n",
    "#Write code that prints Hello if 1 is stored in spam, prints Howdy if 2 is stored in spam, and prints Greetings! if anything else is stored in spam."
   ]
  },
  {
   "cell_type": "code",
   "execution_count": null,
   "id": "03e6f9aa",
   "metadata": {},
   "outputs": [],
   "source": [
    "spam =2\n",
    "if spam == 1:\n",
    "    print(\"Hello\")\n",
    "elif spam == 2:\n",
    "    print(\"Howdy\")\n",
    "else:\n",
    "    print(\"Greeting!\")"
   ]
  },
  {
   "cell_type": "code",
   "execution_count": null,
   "id": "ddd9236b",
   "metadata": {},
   "outputs": [],
   "source": [
    "#Question 9:\n",
    "#If your programme is stuck in an endless loop, what keys you’ll press?"
   ]
  },
  {
   "cell_type": "markdown",
   "id": "acf00cc6",
   "metadata": {},
   "source": [
    "Answer: Kernel > Restart & Run All"
   ]
  },
  {
   "cell_type": "code",
   "execution_count": null,
   "id": "de980482",
   "metadata": {},
   "outputs": [],
   "source": [
    "#Question 10:\n",
    "#How can you tell the difference between break and continue?"
   ]
  },
  {
   "cell_type": "markdown",
   "id": "7b818840",
   "metadata": {},
   "source": [
    "break: When encountered within a loop (such as for or while), the break statement immediately terminates the loop and transfers control to the next statement after the loop. \n",
    "\n",
    "continue: When encountered within a loop, the continue statement skips the remaining code in the loop for the current iteration and moves to the next iteration. It allows you to skip specific iterations based on a certain condition. "
   ]
  },
  {
   "cell_type": "markdown",
   "id": "fc18056a",
   "metadata": {},
   "source": [
    "#Question 11:\n",
    "#In a for loop, what is the difference between range(10), range(0, 10), and range(0, 10, 1)?\n",
    "\n",
    "Answer:\n",
    "    range(10): starts rom 0 till 9\n",
    "    range (0,10) : starts rom 0 till 9\n",
    "    range(0,10,1) : starts rom 0 till 9"
   ]
  },
  {
   "cell_type": "markdown",
   "id": "ad0a1650",
   "metadata": {},
   "source": [
    "#Question 12:\n",
    "Write a short program that prints the numbers 1 to 10 using a for loop. Then write an equivalent program that prints the numbers 1 to 10 using a while loop.\n",
    "\n"
   ]
  },
  {
   "cell_type": "code",
   "execution_count": 14,
   "id": "22b2e1f1",
   "metadata": {},
   "outputs": [],
   "source": [
    "l =  []\n",
    "for i in range(11):\n",
    "    l.append(i)"
   ]
  },
  {
   "cell_type": "code",
   "execution_count": 15,
   "id": "c4346a4f",
   "metadata": {},
   "outputs": [
    {
     "data": {
      "text/plain": [
       "[0, 1, 2, 3, 4, 5, 6, 7, 8, 9, 10]"
      ]
     },
     "execution_count": 15,
     "metadata": {},
     "output_type": "execute_result"
    }
   ],
   "source": [
    "l"
   ]
  },
  {
   "cell_type": "code",
   "execution_count": 17,
   "id": "8d73b12b",
   "metadata": {},
   "outputs": [
    {
     "name": "stdout",
     "output_type": "stream",
     "text": [
      "1\n",
      "2\n",
      "3\n",
      "4\n",
      "5\n",
      "6\n",
      "7\n",
      "8\n",
      "9\n",
      "10\n"
     ]
    }
   ],
   "source": [
    "i = 1\n",
    "while i <= 10:\n",
    "    print(i)\n",
    "    i = i+1"
   ]
  },
  {
   "cell_type": "code",
   "execution_count": null,
   "id": "45eb96b3",
   "metadata": {},
   "outputs": [],
   "source": [
    "#Question 12:\n",
    "If you had a function named bacon() inside a module named spam, how would you call it after importing spam?\n",
    "\n",
    "\n",
    "#Answer: \n",
    "Import spam\n",
    "\n",
    "spam.bacon()"
   ]
  }
 ],
 "metadata": {
  "kernelspec": {
   "display_name": "Python 3",
   "language": "python",
   "name": "python3"
  },
  "language_info": {
   "codemirror_mode": {
    "name": "ipython",
    "version": 3
   },
   "file_extension": ".py",
   "mimetype": "text/x-python",
   "name": "python",
   "nbconvert_exporter": "python",
   "pygments_lexer": "ipython3",
   "version": "3.8.8"
  }
 },
 "nbformat": 4,
 "nbformat_minor": 5
}
